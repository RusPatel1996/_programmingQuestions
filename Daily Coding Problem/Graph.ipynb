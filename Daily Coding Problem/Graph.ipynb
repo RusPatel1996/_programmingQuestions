{
 "cells": [
  {
   "cell_type": "code",
   "execution_count": null,
   "metadata": {
    "slideshow": {
     "slide_type": "slide"
    }
   },
   "outputs": [],
   "source": [
    "class Graph:\n",
    "    def __init__(self):\n",
    "        self.Graph = {}\n",
    "        \n",
    "    def addEdge(self, u , v):\n",
    "        if self.Graph.get(u) is None:\n",
    "            self.Graph[u] = {v}\n",
    "        else:\n",
    "            self.Graph[u].add(v)\n",
    "            \n",
    "    def printGraph(self):\n",
    "        for x, y in self.Graph.items():\n",
    "            print(\"{0} : {1}\".format(x,y))\n",
    "    \n",
    "    def dfs(self, start, visited=set()):\n",
    "        visited.add(start)\n",
    "        print(visited)\n",
    "        if (start in self.Graph) == False: return\n",
    "        for n in self.Graph[start]:\n",
    "            if n not in visited:\n",
    "                self.dfs(n, visited)\n",
    "        return visited"
   ]
  },
  {
   "cell_type": "code",
   "execution_count": 2,
   "metadata": {
    "slideshow": {
     "slide_type": "slide"
    }
   },
   "outputs": [],
   "source": [
    "g = Graph()\n",
    "g.addEdge(\"JFK\", \"SFO\")\n",
    "g.addEdge(\"JFK\", \"LAX\")\n",
    "g.addEdge(\"SFO\", \"ORL\")\n",
    "g.addEdge(\"ORL\", \"JFK\")\n",
    "g.addEdge(\"ORL\", \"LAX\")\n",
    "g.addEdge(\"ORL\", \"DFW\")\n",
    "g.addEdge(\"LAX\", \"DFW\")"
   ]
  },
  {
   "cell_type": "code",
   "execution_count": 3,
   "metadata": {},
   "outputs": [
    {
     "name": "stdout",
     "output_type": "stream",
     "text": [
      "JFK : {'LAX', 'SFO'}\n",
      "SFO : {'ORL'}\n",
      "ORL : {'LAX', 'JFK', 'DFW'}\n",
      "LAX : {'DFW'}\n"
     ]
    }
   ],
   "source": [
    "g.printGraph()"
   ]
  },
  {
   "cell_type": "code",
   "execution_count": 4,
   "metadata": {},
   "outputs": [
    {
     "name": "stdout",
     "output_type": "stream",
     "text": [
      "{'ORL'}\n",
      "{'LAX', 'ORL'}\n",
      "{'LAX', 'ORL', 'DFW'}\n",
      "{'LAX', 'ORL', 'DFW', 'JFK'}\n",
      "{'SFO', 'ORL', 'DFW', 'LAX', 'JFK'}\n",
      "{'SFO', 'ORL', 'DFW', 'LAX', 'JFK'}\n"
     ]
    }
   ],
   "source": [
    "print(g.dfs(\"ORL\"))"
   ]
  }
 ],
 "metadata": {
  "kernelspec": {
   "display_name": "Python 3",
   "language": "python",
   "name": "python3"
  },
  "language_info": {
   "codemirror_mode": {
    "name": "ipython",
    "version": 3
   },
   "file_extension": ".py",
   "mimetype": "text/x-python",
   "name": "python",
   "nbconvert_exporter": "python",
   "pygments_lexer": "ipython3",
   "version": "3.7.4"
  }
 },
 "nbformat": 4,
 "nbformat_minor": 4
}
