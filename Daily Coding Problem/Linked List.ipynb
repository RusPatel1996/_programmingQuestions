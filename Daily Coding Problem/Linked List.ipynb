{
 "cells": [
  {
   "cell_type": "code",
   "execution_count": 1,
   "metadata": {},
   "outputs": [],
   "source": [
    "class Node:\n",
    "    def __init__(self, value):\n",
    "        self.value = value\n",
    "        self.next = None\n",
    "\n",
    "class LinkedList:\n",
    "    def __init__(self):\n",
    "        self.head = None\n",
    "        \n",
    "    def addHead(self, data):\n",
    "        newNode = Node(data) # node head\n",
    "        newNode.next = self.head # node -> head\n",
    "        self.head = newNode # new_head -> old_head\n",
    "    \n",
    "    def addTail(self, data):\n",
    "        newNode = Node(data)\n",
    "        if self.head is None: \n",
    "            self.head = newNode\n",
    "            return  \n",
    "        last = self.head \n",
    "        while (last.next): \n",
    "            last = last.next  \n",
    "        last.next = newNode \n",
    "        \n",
    "    def printList(self):\n",
    "        temp = self.head\n",
    "        while(temp):\n",
    "            print(temp.value)\n",
    "            temp = temp.next"
   ]
  },
  {
   "cell_type": "code",
   "execution_count": 2,
   "metadata": {},
   "outputs": [
    {
     "name": "stdout",
     "output_type": "stream",
     "text": [
      "1\n",
      "7\n",
      "6\n",
      "4\n",
      "None\n"
     ]
    }
   ],
   "source": [
    "if __name__ == '__main__': \n",
    "    llist = LinkedList() \n",
    "\n",
    "    llist.addTail(6) \n",
    "  \n",
    "    llist.addHead(7); \n",
    "  \n",
    "    llist.addHead(1); \n",
    "  \n",
    "    llist.addTail(4) \n",
    "  \n",
    "    print(llist.printList())"
   ]
  }
 ],
 "metadata": {
  "kernelspec": {
   "display_name": "Python 3",
   "language": "python",
   "name": "python3"
  },
  "language_info": {
   "codemirror_mode": {
    "name": "ipython",
    "version": 3
   },
   "file_extension": ".py",
   "mimetype": "text/x-python",
   "name": "python",
   "nbconvert_exporter": "python",
   "pygments_lexer": "ipython3",
   "version": "3.7.4"
  }
 },
 "nbformat": 4,
 "nbformat_minor": 4
}
